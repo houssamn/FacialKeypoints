{
 "cells": [
  {
   "cell_type": "markdown",
   "id": "bcad74f7",
   "metadata": {},
   "source": [
    "# Facial Keypoints - Model Training"
   ]
  },
  {
   "cell_type": "code",
   "execution_count": 1,
   "id": "a8d4b59d",
   "metadata": {},
   "outputs": [],
   "source": [
    "import matplotlib.pyplot as plt\n",
    "import numpy as np\n",
    "import torch\n",
    "import torch.nn as nn\n",
    "import torch.nn.functional as F\n",
    "\n",
    "%load_ext autoreload\n",
    "%autoreload 2"
   ]
  },
  {
   "cell_type": "markdown",
   "id": "9f260fe9",
   "metadata": {},
   "source": [
    "### Prepare the Dataset"
   ]
  },
  {
   "cell_type": "code",
   "execution_count": 2,
   "id": "1d628d93",
   "metadata": {},
   "outputs": [],
   "source": [
    "# Split the training images into a Training (80%) and Validation (20%)\n",
    "# Use the images in the test directory for testing on unseen data.\n",
    "\n",
    "from torch.utils.data import Dataset, DataLoader\n",
    "from torchvision import transforms, utils\n",
    "from torch.utils.data.sampler import SubsetRandomSampler\n",
    "\n",
    "from facepoint.data_load import FacialKeypointsDataset\n",
    "from facepoint.data_load import Rescale, RandomCrop, Normalize, ToTensor\n",
    "\n",
    "BATCH_SIZE = 32\n",
    "TRAIN_IMG_DIR = \"data/training/\"\n",
    "TRAIN_IMG_KEYPTS = \"data/training_frames_keypoints.csv\"\n",
    "TEST_IMG_DIR = \"data/test/\"\n",
    "TEST_IMG_KEYPTS = \"data/test_frames_keypoints.csv\"\n",
    "\n",
    "\n",
    "# Define a Data Transform to apply to images in the dataset.\n",
    "data_transform = transforms.Compose([Rescale(250), RandomCrop(224), Normalize(), ToTensor()])\n",
    "\n",
    "\n",
    "# Create training and validation data loaders.\n",
    "transformed_dataset = FacialKeypointsDataset(csv_file=TRAIN_IMG_KEYPTS, \n",
    "                                             root_dir=TRAIN_IMG_DIR, \n",
    "                                             transform=data_transform)\n",
    "train_sampler = SubsetRandomSampler(range(2770)) # about 80% of the training images \n",
    "validation_sampler = SubsetRandomSampler(range(2771,len(transformed_dataset)))\n",
    "\n",
    "train_loader = DataLoader(transformed_dataset, \n",
    "                          batch_size=BATCH_SIZE, \n",
    "                          sampler=train_sampler)\n",
    "validation_loader = DataLoader(transformed_dataset, \n",
    "                               batch_size=BATCH_SIZE, \n",
    "                               sampler=validation_sampler)\n",
    "\n",
    "# Create the test dataset loader\n",
    "test_dataset = FacialKeypointsDataset(csv_file=TEST_IMG_KEYPTS, \n",
    "                                      root_dir=TEST_IMG_DIR, \n",
    "                                      transform=data_transform)\n",
    "test_loader = DataLoader(test_dataset, \n",
    "                         batch_size=BATCH_SIZE, \n",
    "                         shuffle=True)"
   ]
  },
  {
   "cell_type": "markdown",
   "id": "2a524097",
   "metadata": {},
   "source": [
    "### Train the Model"
   ]
  },
  {
   "cell_type": "code",
   "execution_count": 3,
   "id": "b53dfbfc",
   "metadata": {},
   "outputs": [
    {
     "name": "stdout",
     "output_type": "stream",
     "text": [
      "Net(\n",
      "  (conv1): Conv2d(1, 8, kernel_size=(5, 5), stride=(1, 1))\n",
      "  (pool): MaxPool2d(kernel_size=2, stride=2, padding=0, dilation=1, ceil_mode=False)\n",
      "  (conv2): Conv2d(8, 8, kernel_size=(4, 4), stride=(1, 1))\n",
      "  (conv3): Conv2d(8, 16, kernel_size=(3, 3), stride=(1, 1))\n",
      "  (conv4): Conv2d(16, 24, kernel_size=(2, 2), stride=(1, 1))\n",
      "  (drop1): Dropout(p=0.1, inplace=False)\n",
      "  (drop2): Dropout(p=0.2, inplace=False)\n",
      "  (drop3): Dropout(p=0.3, inplace=False)\n",
      "  (drop4): Dropout(p=0.4, inplace=False)\n",
      "  (drop5): Dropout(p=0.5, inplace=False)\n",
      "  (fc1): Linear(in_features=3456, out_features=512, bias=True)\n",
      "  (fc2): Linear(in_features=512, out_features=256, bias=True)\n",
      "  (fc3): Linear(in_features=256, out_features=136, bias=True)\n",
      ")\n"
     ]
    }
   ],
   "source": [
    "# Get the Model\n",
    "\n",
    "from facepoint.models import Net\n",
    "\n",
    "net = Net()\n",
    "print(net)"
   ]
  },
  {
   "cell_type": "code",
   "execution_count": null,
   "id": "8fd099ed",
   "metadata": {},
   "outputs": [
    {
     "name": "stdout",
     "output_type": "stream",
     "text": [
      "Epoch: 0, Training Loss: 0.756029702104386 | Validation Loss: 0.592774602378329\n",
      "Epoch: 1, Training Loss: 0.6050292910866789 | Validation Loss: 0.5880362865031197\n",
      "Epoch: 2, Training Loss: 0.5914679987335894 | Validation Loss: 0.5722955074134335\n",
      "Epoch: 3, Training Loss: 0.5617326003119403 | Validation Loss: 0.6808404941462228\n",
      "Epoch: 4, Training Loss: 0.6016025299522421 | Validation Loss: 0.6905672325066651\n",
      "Epoch: 5, Training Loss: 0.6094057126380906 | Validation Loss: 0.6280118990393002\n",
      "Epoch: 6, Training Loss: 0.6111866951203949 | Validation Loss: 0.6545986112223348\n",
      "Epoch: 7, Training Loss: 0.5925168742556864 | Validation Loss: 0.7126086969710294\n",
      "Epoch: 8, Training Loss: 0.6142823430390134 | Validation Loss: 0.6183506977540885\n",
      "Epoch: 9, Training Loss: 0.590129230803531 | Validation Loss: 0.6063574766025874\n",
      "Epoch: 10, Training Loss: 0.5867677690320067 | Validation Loss: 0.660537314829019\n",
      "Epoch: 11, Training Loss: 0.6193612806418313 | Validation Loss: 0.6512539765855511\n",
      "Epoch: 12, Training Loss: 0.5803448480927127 | Validation Loss: 0.6523292506310425\n",
      "Epoch: 13, Training Loss: 0.5745753500650936 | Validation Loss: 0.6292010947264052\n",
      "Epoch: 14, Training Loss: 0.5931359429974848 | Validation Loss: 0.6572636332249676\n",
      "Epoch: 15, Training Loss: 0.5830950230790389 | Validation Loss: 0.5954553611716727\n",
      "Epoch: 16, Training Loss: 0.592136049259871 | Validation Loss: 0.7047045388287297\n",
      "Epoch: 17, Training Loss: 0.5744843365160567 | Validation Loss: 0.6507651419439467\n"
     ]
    }
   ],
   "source": [
    "# Train the Model\n",
    "\n",
    "import torch.optim as optim\n",
    "import torch.nn as nn\n",
    "from facepoint.model_trainer import ModelTrainer\n",
    "\n",
    "criterion = nn.MSELoss()\n",
    "optimizer = optim.Adam(net.parameters(), lr=0.005)\n",
    "\n",
    "trainer = ModelTrainer(net, optimizer, criterion, train_loader, validation_loader)\n",
    "trainer.init_weights()\n",
    "trainer.train(40)"
   ]
  },
  {
   "cell_type": "code",
   "execution_count": null,
   "id": "4e59755c",
   "metadata": {},
   "outputs": [],
   "source": [
    "# Test on some sample data\n",
    "from facepoint.utils import visualize_output, net_sample_output\n",
    "\n",
    "test_images, test_outputs, gt_pts = net_sample_output(test_loader, net)\n",
    "visualize_output(test_images, test_outputs, gt_pts, 4)"
   ]
  },
  {
   "cell_type": "code",
   "execution_count": null,
   "id": "bb00dd54",
   "metadata": {},
   "outputs": [],
   "source": [
    "# Save model\n",
    "trainer.save_weights()"
   ]
  },
  {
   "cell_type": "code",
   "execution_count": null,
   "id": "1058a1f6",
   "metadata": {},
   "outputs": [],
   "source": []
  },
  {
   "cell_type": "code",
   "execution_count": null,
   "id": "5ae22200",
   "metadata": {},
   "outputs": [],
   "source": []
  }
 ],
 "metadata": {
  "kernelspec": {
   "display_name": "facial_keypoint",
   "language": "python",
   "name": "facial_keypoint"
  },
  "language_info": {
   "codemirror_mode": {
    "name": "ipython",
    "version": 3
   },
   "file_extension": ".py",
   "mimetype": "text/x-python",
   "name": "python",
   "nbconvert_exporter": "python",
   "pygments_lexer": "ipython3",
   "version": "3.7.10"
  }
 },
 "nbformat": 4,
 "nbformat_minor": 5
}
