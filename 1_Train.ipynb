{
 "cells": [
  {
   "cell_type": "markdown",
   "id": "a8349920",
   "metadata": {},
   "source": [
    "# Facial Keypoints - Model Training"
   ]
  },
  {
   "cell_type": "code",
   "execution_count": null,
   "id": "a9b07365",
   "metadata": {},
   "outputs": [],
   "source": [
    "import matplotlib.pyplot as plt\n",
    "import numpy as np\n",
    "import torch\n",
    "import torch.nn as nn\n",
    "import torch.nn.functional as F\n",
    "\n",
    "%load_ext autoreload\n",
    "%autoreload 2"
   ]
  },
  {
   "cell_type": "markdown",
   "id": "ced9e35e",
   "metadata": {},
   "source": [
    "### Prepare the Dataset"
   ]
  },
  {
   "cell_type": "code",
   "execution_count": null,
   "id": "a4ba298b",
   "metadata": {},
   "outputs": [],
   "source": [
    "# Split the training images into a Training (80%) and Validation (20%)\n",
    "# Use the images in the test directory for testing on unseen data.\n",
    "\n",
    "from torch.utils.data import Dataset, DataLoader\n",
    "from torchvision import transforms, utils\n",
    "from torch.utils.data.sampler import SubsetRandomSampler\n",
    "\n",
    "from facepoint.data_load import FacialKeypointsDataset\n",
    "from facepoint.data_load import Rescale, RandomCrop, Normalize, ToTensor\n",
    "\n",
    "BATCH_SIZE = 32\n",
    "TRAIN_IMG_DIR = \"data/training/\"\n",
    "TRAIN_IMG_KEYPTS = \"data/training_frames_keypoints.csv\"\n",
    "TEST_IMG_DIR = \"data/test/\"\n",
    "TEST_IMG_KEYPTS = \"data/test_frames_keypoints.csv\"\n",
    "\n",
    "\n",
    "# Define a Data Transform to apply to images in the dataset.\n",
    "data_transform = transforms.Compose([Rescale(250), RandomCrop(224), Normalize(), ToTensor()])\n",
    "\n",
    "\n",
    "# Create training and validation data loaders.\n",
    "transformed_dataset = FacialKeypointsDataset(csv_file=TRAIN_IMG_KEYPTS, \n",
    "                                             root_dir=TRAIN_IMG_DIR, \n",
    "                                             transform=data_transform)\n",
    "train_sampler = SubsetRandomSampler(range(2770)) # about 80% of the training images \n",
    "validation_sampler = SubsetRandomSampler(range(2771,len(transformed_dataset)))\n",
    "\n",
    "train_loader = DataLoader(transformed_dataset, \n",
    "                          batch_size=BATCH_SIZE, \n",
    "                          sampler=train_sampler)\n",
    "validation_loader = DataLoader(transformed_dataset, \n",
    "                               batch_size=BATCH_SIZE, \n",
    "                               sampler=validation_sampler)\n",
    "\n",
    "# Create the test dataset loader\n",
    "test_dataset = FacialKeypointsDataset(csv_file=TEST_IMG_KEYPTS, \n",
    "                                      root_dir=TEST_IMG_DIR, \n",
    "                                      transform=data_transform)\n",
    "test_loader = DataLoader(test_dataset, \n",
    "                         batch_size=BATCH_SIZE, \n",
    "                         shuffle=True)"
   ]
  },
  {
   "cell_type": "markdown",
   "id": "4ad3efcb",
   "metadata": {},
   "source": [
    "### Train the Model"
   ]
  },
  {
   "cell_type": "code",
   "execution_count": null,
   "id": "a6d2939b",
   "metadata": {},
   "outputs": [],
   "source": [
    "# Get the Model\n",
    "\n",
    "from facepoint.models import Net\n",
    "\n",
    "net = Net()\n",
    "print(net)"
   ]
  },
  {
   "cell_type": "code",
   "execution_count": null,
   "id": "4c9d500b",
   "metadata": {},
   "outputs": [],
   "source": [
    "# Train the Model\n",
    "\n",
    "import torch.optim as optim\n",
    "import torch.nn as nn\n",
    "from facepoint.model_trainer import ModelTrainer\n",
    "\n",
    "criterion = nn.MSELoss()\n",
    "optimizer = optim.Adam(net.parameters(), lr=0.001)\n",
    "\n",
    "trainer = ModelTrainer(net, optimizer, criterion, train_loader, validation_loader)\n",
    "trainer.init_weights()\n",
    "trainer.train(300)"
   ]
  },
  {
   "cell_type": "code",
   "execution_count": null,
   "id": "7ec8cc4c",
   "metadata": {},
   "outputs": [],
   "source": [
    "# Test on some sample data\n",
    "from facepoint.utils import visualize_output, net_sample_output\n",
    "\n",
    "test_images, test_outputs, gt_pts = net_sample_output(test_loader, net)\n",
    "visualize_output(test_images, test_outputs, gt_pts, 4)"
   ]
  },
  {
   "cell_type": "code",
   "execution_count": null,
   "id": "00347cd5",
   "metadata": {},
   "outputs": [],
   "source": [
    "# Save model\n",
    "trainer.save_weights()"
   ]
  }
 ],
 "metadata": {
  "kernelspec": {
   "display_name": "facial_keypoint",
   "language": "python",
   "name": "facial_keypoint"
  },
  "language_info": {
   "codemirror_mode": {
    "name": "ipython",
    "version": 3
   },
   "file_extension": ".py",
   "mimetype": "text/x-python",
   "name": "python",
   "nbconvert_exporter": "python",
   "pygments_lexer": "ipython3",
   "version": "3.7.10"
  }
 },
 "nbformat": 4,
 "nbformat_minor": 5
}
