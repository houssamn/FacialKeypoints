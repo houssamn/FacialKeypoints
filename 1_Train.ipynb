{
 "cells": [
  {
   "cell_type": "markdown",
   "id": "3006c87c",
   "metadata": {},
   "source": [
    "# Facial Keypoints - Model Training"
   ]
  },
  {
   "cell_type": "code",
   "execution_count": 1,
   "id": "08652863",
   "metadata": {},
   "outputs": [],
   "source": [
    "import matplotlib.pyplot as plt\n",
    "import numpy as np\n",
    "import torch\n",
    "import torch.nn as nn\n",
    "import torch.nn.functional as F\n",
    "\n",
    "%load_ext autoreload\n",
    "%autoreload 2"
   ]
  },
  {
   "cell_type": "markdown",
   "id": "c3079b20",
   "metadata": {},
   "source": [
    "### Prepare the Dataset"
   ]
  },
  {
   "cell_type": "code",
   "execution_count": 3,
   "id": "ae456753",
   "metadata": {},
   "outputs": [],
   "source": [
    "# Split the training images into a Training (80%) and Validation (20%)\n",
    "# Use the images in the test directory for testing on unseen data.\n",
    "\n",
    "from torch.utils.data import Dataset, DataLoader\n",
    "from torchvision import transforms, utils\n",
    "from torch.utils.data.sampler import SubsetRandomSampler\n",
    "\n",
    "from facepoint.data_load import FacialKeypointsDataset\n",
    "from facepoint.data_load import Rescale, RandomCrop, Normalize, ToTensor\n",
    "\n",
    "BATCH_SIZE = 32\n",
    "TRAIN_IMG_DIR = \"data/training/\"\n",
    "TRAIN_IMG_KEYPTS = \"data/training_frames_keypoints.csv\"\n",
    "TEST_IMG_DIR = \"data/test/\"\n",
    "TEST_IMG_KEYPTS = \"data/test_frames_keypoints.csv\"\n",
    "\n",
    "\n",
    "# Define a Data Transform to apply to images in the dataset.\n",
    "data_transform = transforms.Compose([Rescale(250), RandomCrop(224), Normalize(), ToTensor()])\n",
    "\n",
    "\n",
    "# Create training and validation data loaders.\n",
    "transformed_dataset = FacialKeypointsDataset(csv_file=TRAIN_IMG_KEYPTS, \n",
    "                                             root_dir=TRAIN_IMG_DIR, \n",
    "                                             transform=data_transform)\n",
    "train_sampler = SubsetRandomSampler(range(2770)) # about 80% of the training images \n",
    "validation_sampler = SubsetRandomSampler(range(2771,len(transformed_dataset)))\n",
    "\n",
    "train_loader = DataLoader(transformed_dataset, \n",
    "                          batch_size=BATCH_SIZE, \n",
    "                          sampler=train_sampler)\n",
    "validation_loader = DataLoader(transformed_dataset, \n",
    "                               batch_size=BATCH_SIZE, \n",
    "                               sampler=validation_sampler)\n",
    "\n",
    "# Create the test dataset loader\n",
    "test_dataset = FacialKeypointsDataset(csv_file=TEST_IMG_KEYPTS, \n",
    "                                      root_dir=TEST_IMG_DIR, \n",
    "                                      transform=data_transform)\n",
    "test_loader = DataLoader(test_dataset, \n",
    "                         batch_size=BATCH_SIZE, \n",
    "                         shuffle=True)"
   ]
  },
  {
   "cell_type": "markdown",
   "id": "9ebac7ee",
   "metadata": {},
   "source": [
    "### Train the Model"
   ]
  },
  {
   "cell_type": "code",
   "execution_count": 4,
   "id": "7d908bcd",
   "metadata": {},
   "outputs": [
    {
     "name": "stdout",
     "output_type": "stream",
     "text": [
      "Net(\n",
      "  (conv1): Conv2d(1, 8, kernel_size=(5, 5), stride=(1, 1))\n",
      "  (pool): MaxPool2d(kernel_size=2, stride=2, padding=0, dilation=1, ceil_mode=False)\n",
      "  (conv2): Conv2d(8, 8, kernel_size=(4, 4), stride=(1, 1))\n",
      "  (conv3): Conv2d(8, 16, kernel_size=(3, 3), stride=(1, 1))\n",
      "  (conv4): Conv2d(16, 24, kernel_size=(2, 2), stride=(1, 1))\n",
      "  (drop1): Dropout(p=0.1, inplace=False)\n",
      "  (drop2): Dropout(p=0.2, inplace=False)\n",
      "  (drop3): Dropout(p=0.3, inplace=False)\n",
      "  (drop4): Dropout(p=0.4, inplace=False)\n",
      "  (drop5): Dropout(p=0.5, inplace=False)\n",
      "  (fc1): Linear(in_features=3456, out_features=512, bias=True)\n",
      "  (fc2): Linear(in_features=512, out_features=256, bias=True)\n",
      "  (fc3): Linear(in_features=256, out_features=136, bias=True)\n",
      ")\n"
     ]
    }
   ],
   "source": [
    "# Get the Model\n",
    "\n",
    "from facepoint.models import Net\n",
    "\n",
    "net = Net()\n",
    "print(net)"
   ]
  },
  {
   "cell_type": "code",
   "execution_count": null,
   "id": "b82a02e5",
   "metadata": {},
   "outputs": [
    {
     "name": "stdout",
     "output_type": "stream",
     "text": [
      "Epoch: 0, Training Loss: 0.835576010094653 | Validation Loss: 0.7112233860447852\n",
      "Epoch: 1, Training Loss: 0.6158245895528621 | Validation Loss: 0.7228771507653762\n"
     ]
    }
   ],
   "source": [
    "# Train the Model\n",
    "\n",
    "import torch.optim as optim\n",
    "import torch.nn as nn\n",
    "from facepoint.model_trainer import ModelTrainer\n",
    "\n",
    "criterion = nn.MSELoss()\n",
    "optimizer = optim.Adam(net.parameters(), lr=0.001)\n",
    "\n",
    "trainer = ModelTrainer(net, optimizer, criterion, train_loader, validation_loader)\n",
    "trainer.init_weights()\n",
    "trainer.train(100)"
   ]
  },
  {
   "cell_type": "code",
   "execution_count": null,
   "id": "903be074",
   "metadata": {},
   "outputs": [],
   "source": [
    "# Test on some sample data\n",
    "from facepoint.utils import visualize_output, net_sample_output\n",
    "\n",
    "test_images, test_outputs, gt_pts = net_sample_output(test_loader, net)\n",
    "visualize_output(test_images, test_outputs, gt_pts, 4)"
   ]
  },
  {
   "cell_type": "code",
   "execution_count": 7,
   "id": "aa96daf4",
   "metadata": {},
   "outputs": [],
   "source": [
    "# Save model\n",
    "trainer.save_weights()"
   ]
  },
  {
   "cell_type": "code",
   "execution_count": null,
   "id": "eee056a1",
   "metadata": {},
   "outputs": [],
   "source": []
  }
 ],
 "metadata": {
  "kernelspec": {
   "display_name": "facial_keypoint",
   "language": "python",
   "name": "facial_keypoint"
  },
  "language_info": {
   "codemirror_mode": {
    "name": "ipython",
    "version": 3
   },
   "file_extension": ".py",
   "mimetype": "text/x-python",
   "name": "python",
   "nbconvert_exporter": "python",
   "pygments_lexer": "ipython3",
   "version": "3.7.10"
  }
 },
 "nbformat": 4,
 "nbformat_minor": 5
}
