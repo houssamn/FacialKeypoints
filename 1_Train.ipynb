{
 "cells": [
  {
   "cell_type": "markdown",
   "id": "abandoned-stranger",
   "metadata": {},
   "source": [
    "# Facial Keypoints - Training"
   ]
  },
  {
   "cell_type": "code",
   "execution_count": null,
   "id": "divided-brazilian",
   "metadata": {},
   "outputs": [],
   "source": []
  },
  {
   "cell_type": "code",
   "execution_count": null,
   "id": "alert-concept",
   "metadata": {},
   "outputs": [],
   "source": [
    "\n",
    "\n",
    "\n"
   ]
  }
 ],
 "metadata": {
  "kernelspec": {
   "display_name": "facekey",
   "language": "python",
   "name": "facekey"
  },
  "language_info": {
   "codemirror_mode": {
    "name": "ipython",
    "version": 3
   },
   "file_extension": ".py",
   "mimetype": "text/x-python",
   "name": "python",
   "nbconvert_exporter": "python",
   "pygments_lexer": "ipython3",
   "version": "3.7.10"
  }
 },
 "nbformat": 4,
 "nbformat_minor": 5
}
